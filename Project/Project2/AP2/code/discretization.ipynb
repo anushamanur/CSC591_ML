{
 "cells": [
  {
   "cell_type": "code",
   "execution_count": 1,
   "metadata": {},
   "outputs": [],
   "source": [
    "import numpy as np \n",
    "import pandas as pd"
   ]
  },
  {
   "cell_type": "code",
   "execution_count": 2,
   "metadata": {},
   "outputs": [],
   "source": [
    "def feature_discretization_by_median(feature_data, maxLevel=2): \n",
    "    isFloat = any(map(lambda x: isinstance(x, float), feature_data)) \n",
    "    if not isFloat:\n",
    "        isOverLevel = len(feature_data.unique())>maxLevel \n",
    "    if isFloat or isOverLevel:\n",
    "        median = feature_data.median()\n",
    "        feature_data = map(lambda x: 0 if x<=median else 1, feature_data)\n",
    "    feature_data = pd.Series(feature_data, dtype=int)\n",
    "    return feature_data"
   ]
  },
  {
   "cell_type": "code",
   "execution_count": 1,
   "metadata": {},
   "outputs": [],
   "source": [
    "def feature_discretization_by_pdcut(data):    \n",
    "    vec = list(data.columns)\n",
    "    bins=5\n",
    "    discretized_data = pd.DataFrame()\n",
    "    for i in range(0,len(vec)):\n",
    "        if data[vec[i]].dtype != 'int64':\n",
    "            x = pd.cut(data[vec[i]],bins,labels=False)\n",
    "            discretized_data[vec[i]] = x\n",
    "        else:\n",
    "            discretized_data[vec[i]]=data[vec[i]]\n",
    "    return discretized_data"
   ]
  }
 ],
 "metadata": {
  "kernelspec": {
   "display_name": "Python 3",
   "language": "python",
   "name": "python3"
  },
  "language_info": {
   "codemirror_mode": {
    "name": "ipython",
    "version": 3
   },
   "file_extension": ".py",
   "mimetype": "text/x-python",
   "name": "python",
   "nbconvert_exporter": "python",
   "pygments_lexer": "ipython3",
   "version": "3.5.2"
  }
 },
 "nbformat": 4,
 "nbformat_minor": 2
}
