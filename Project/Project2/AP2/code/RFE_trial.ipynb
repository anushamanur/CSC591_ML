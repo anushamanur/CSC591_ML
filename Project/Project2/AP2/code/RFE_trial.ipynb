{
 "cells": [
  {
   "cell_type": "code",
   "execution_count": 38,
   "metadata": {},
   "outputs": [],
   "source": [
    "import numpy as np # linear algebra\n",
    "import pandas as pd # data processing\n",
    "import matplotlib.pyplot as plt\n",
    "import seaborn as sns\n",
    "from sklearn.decomposition import PCA\n",
    "from sklearn.preprocessing import KBinsDiscretizer\n",
    "from sklearn.feature_selection import RFE\n",
    "from sklearn.linear_model import LogisticRegression\n",
    "from sklearn.ensemble import RandomForestClassifier"
   ]
  },
  {
   "cell_type": "code",
   "execution_count": 32,
   "metadata": {},
   "outputs": [],
   "source": [
    "file_name = 'MDP_Original_data.csv'\n",
    "dataset=pd.read_csv(file_name)"
   ]
  },
  {
   "cell_type": "code",
   "execution_count": 33,
   "metadata": {},
   "outputs": [],
   "source": [
    "X=dataset.iloc[:,3:]\n",
    "Y=dataset[['priorTutorAction']]\n",
    "del X['priorTutorAction']"
   ]
  },
  {
   "cell_type": "code",
   "execution_count": 41,
   "metadata": {},
   "outputs": [
    {
     "name": "stderr",
     "output_type": "stream",
     "text": [
      "/usr/local/lib/python3.5/dist-packages/sklearn/utils/validation.py:724: DataConversionWarning: A column-vector y was passed when a 1d array was expected. Please change the shape of y to (n_samples, ), for example using ravel().\n",
      "  y = column_or_1d(y, warn=True)\n"
     ]
    },
    {
     "name": "stdout",
     "output_type": "stream",
     "text": [
      "Num Features: 2\n",
      "Selected Features: [False False False False False False False False False False False False\n",
      " False False False False False False False False False False False False\n",
      " False False False  True False False False False False False False False\n",
      " False False False False False False False False False False False False\n",
      " False False False  True False False False False False False False False\n",
      " False False False False False False False False False False False False\n",
      " False False False False False False False False False False False False\n",
      " False False False False False False False False False False False False\n",
      " False False False False False False False False False False False False\n",
      " False False False False False False False False False False False False\n",
      " False False False False False False]\n",
      "Feature Ranking: [ 72 116  47  26  25   3   2  40  37  39 119 108  97  98 124  10 125  49\n",
      "  96 111   4  82  65 121 122 100 118   1  22  89  30   9  88 109 103  64\n",
      "   8  79  23 123  32 113  17  58  20  15   6  19   5 115  90   1  27 106\n",
      "  73  99  95  80  75 107 112  85  93 117  91 120  61  70  67 101  28  43\n",
      "  44  38  74  50  11  36  45  33  51  21  94 102 110 114  13  92 105  63\n",
      "  54  56  76  81  16  57  48  66  62  71  24  35   7  55 104  46  78  42\n",
      "  31  18  68  53  59  41  86  69  29  34  87  77  60  84  83  12  14  52]\n"
     ]
    }
   ],
   "source": [
    "# Feature extraction\n",
    "model = RandomForestClassifier(n_estimators=100)\n",
    "rfe = RFE(model, 2)\n",
    "fit = rfe.fit(X, Y)\n",
    "print(\"Num Features: %s\" % (fit.n_features_))\n",
    "print(\"Selected Features: %s\" % (fit.support_))\n",
    "print(\"Feature Ranking: %s\" % (fit.ranking_))"
   ]
  },
  {
   "cell_type": "code",
   "execution_count": 42,
   "metadata": {},
   "outputs": [
    {
     "name": "stdout",
     "output_type": "stream",
     "text": [
      "['SeenWEinLevel', 'NextStepClickCountWE']\n"
     ]
    }
   ],
   "source": [
    "rfe_support=fit.get_support()\n",
    "rfe_feature=X.loc[:,rfe_support].columns.tolist()\n",
    "print (rfe_feature)"
   ]
  },
  {
   "cell_type": "code",
   "execution_count": 43,
   "metadata": {},
   "outputs": [
    {
     "data": {
      "text/plain": [
       "(7168, 2)"
      ]
     },
     "execution_count": 43,
     "metadata": {},
     "output_type": "execute_result"
    }
   ],
   "source": [
    "data=X[rfe_feature]\n",
    "data.shape"
   ]
  },
  {
   "cell_type": "code",
   "execution_count": 44,
   "metadata": {},
   "outputs": [],
   "source": [
    "vec = list(data.columns)\n",
    "bins=5\n",
    "temp = pd.DataFrame()\n",
    "for i in range(0,len(vec)):\n",
    "    if data[vec[i]].dtype != 'int64':\n",
    "        x = pd.cut(data[vec[i]],bins,labels=False)\n",
    "        temp[vec[i]] = x\n",
    "    else:\n",
    "        temp[vec[i]]=data[vec[i]]"
   ]
  },
  {
   "cell_type": "code",
   "execution_count": 46,
   "metadata": {},
   "outputs": [],
   "source": [
    "temp.to_csv('final_data.csv', index=False)"
   ]
  }
 ],
 "metadata": {
  "kernelspec": {
   "display_name": "Python 3",
   "language": "python",
   "name": "python3"
  },
  "language_info": {
   "codemirror_mode": {
    "name": "ipython",
    "version": 3
   },
   "file_extension": ".py",
   "mimetype": "text/x-python",
   "name": "python",
   "nbconvert_exporter": "python",
   "pygments_lexer": "ipython3",
   "version": "3.5.2"
  }
 },
 "nbformat": 4,
 "nbformat_minor": 2
}
