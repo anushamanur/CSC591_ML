{
 "cells": [
  {
   "cell_type": "code",
   "execution_count": 7,
   "metadata": {},
   "outputs": [],
   "source": [
    "import numpy as np # linear algebra\n",
    "import pandas as pd # data processing\n",
    "import matplotlib.pyplot as plt\n",
    "import seaborn as sns\n",
    "from sklearn.decomposition import PCA\n",
    "from sklearn.preprocessing import KBinsDiscretizer\n",
    "from sklearn.feature_selection import RFE"
   ]
  },
  {
   "cell_type": "code",
   "execution_count": 63,
   "metadata": {},
   "outputs": [],
   "source": [
    "file_name = 'MDP_Original_data.csv'\n",
    "dataset=pd.read_csv(file_name)"
   ]
  },
  {
   "cell_type": "code",
   "execution_count": 64,
   "metadata": {},
   "outputs": [
    {
     "data": {
      "text/plain": [
       "124"
      ]
     },
     "execution_count": 64,
     "metadata": {},
     "output_type": "execute_result"
    }
   ],
   "source": [
    "data=dataset.iloc[:,6:]\n",
    "len(data.columns)"
   ]
  },
  {
   "cell_type": "code",
   "execution_count": 65,
   "metadata": {},
   "outputs": [],
   "source": [
    "cat=[]\n",
    "for k, v in data.nunique().to_dict().items():\n",
    "    if v<=5 and data[k].dtype == 'int64' :\n",
    "        cat.append(k)\n",
    "df_cat=data[cat]\n",
    "df_cont = data[data.columns.difference(cat)]"
   ]
  },
  {
   "cell_type": "code",
   "execution_count": 66,
   "metadata": {},
   "outputs": [
    {
     "data": {
      "text/plain": [
       "(7168, 22)"
      ]
     },
     "execution_count": 66,
     "metadata": {},
     "output_type": "execute_result"
    }
   ],
   "source": [
    "df_cat.shape"
   ]
  },
  {
   "cell_type": "code",
   "execution_count": 67,
   "metadata": {},
   "outputs": [
    {
     "name": "stdout",
     "output_type": "stream",
     "text": [
      "(7168, 72)\n",
      "(7168, 17)\n"
     ]
    }
   ],
   "source": [
    "#(corr_matrix.iloc[i, j] <= low_t and corr_matrix.iloc[i, j] >= -low_t)\n",
    "              \n",
    "def correlation(dataset, low_t, high_t):\n",
    "    col_corr = set() # Set of all the names of deleted columns\n",
    "    corr_matrix = dataset.corr()\n",
    "    for i in range(len(corr_matrix.columns)):\n",
    "        for j in range(i):\n",
    "            if (corr_matrix.iloc[i, j] <= - high_t or corr_matrix.iloc[i, j] >= high_t and (corr_matrix.columns[j] not in col_corr)):\n",
    "                colname = corr_matrix.columns[i] # getting the name of column\n",
    "                col_corr.add(colname)\n",
    "                if colname in dataset.columns:\n",
    "                    del dataset[colname] # deleting the column from the dataset\n",
    "\n",
    "    print (dataset.shape)\n",
    "    \n",
    "correlation(df_cont, 0.2,0.8)\n",
    "correlation(df_cat, 0.2,0.8)"
   ]
  },
  {
   "cell_type": "code",
   "execution_count": 57,
   "metadata": {},
   "outputs": [
    {
     "name": "stdout",
     "output_type": "stream",
     "text": [
      "(7168, 87)\n"
     ]
    }
   ],
   "source": [
    "bigdata = pd.concat([df_cont, df_cat], axis=1)\n",
    "correlation(bigdata, 0.2,0.8)"
   ]
  },
  {
   "cell_type": "code",
   "execution_count": 46,
   "metadata": {},
   "outputs": [],
   "source": [
    "vec = list(bigdata.columns)\n",
    "bins=5\n",
    "temp = pd.DataFrame()\n",
    "for i in range(0,len(vec)):\n",
    "    if bigdata[vec[i]].dtype != 'int64':\n",
    "        x = pd.cut(bigdata[vec[i]],bins,labels=False)\n",
    "        temp[vec[i]] = x\n",
    "    else:\n",
    "        temp[vec[i]]=bigdata[vec[i]]\n"
   ]
  },
  {
   "cell_type": "code",
   "execution_count": 58,
   "metadata": {},
   "outputs": [
    {
     "data": {
      "image/png": "[encoded data removed]",
      "text/plain": [
       "<Figure size 432x288 with 1 Axes>"
      ]
     },
     "metadata": {
      "needs_background": "light"
     },
     "output_type": "display_data"
    }
   ],
   "source": [
    "pca = PCA().fit(bigdata)\n",
    "#Plotting the Cumulative Summation of the Explained Variance\n",
    "plt.figure()\n",
    "plt.plot(np.cumsum(pca.explained_variance_ratio_))\n",
    "plt.xlabel('Number of Components')\n",
    "plt.ylabel('Variance (%)') #for each component\n",
    "plt.title('Pulsar Dataset Explained Variance')\n",
    "plt.show()\n",
    "#"
   ]
  },
  {
   "cell_type": "code",
   "execution_count": 68,
   "metadata": {},
   "outputs": [],
   "source": [
    "pca = PCA(n_components=2)\n",
    "dataset = pca.fit_transform(df_cont)\n",
    "final = pd.DataFrame(dataset)"
   ]
  },
  {
   "cell_type": "code",
   "execution_count": 69,
   "metadata": {},
   "outputs": [],
   "source": [
    "vec = list(final.columns)\n",
    "bins=5\n",
    "temp = pd.DataFrame()\n",
    "for i in range(0,len(vec)):\n",
    "    if final[vec[i]].dtype != 'int64':\n",
    "        x = pd.cut(final[vec[i]],bins,labels=False)\n",
    "        temp[vec[i]] = x\n",
    "    else:\n",
    "        temp[vec[i]]=final[vec[i]]\n"
   ]
  },
  {
   "cell_type": "code",
   "execution_count": 70,
   "metadata": {},
   "outputs": [],
   "source": [
    "temp.to_csv('final_data.csv', index=False)"
   ]
  }
 ],
 "metadata": {
  "kernelspec": {
   "display_name": "Python 3",
   "language": "python",
   "name": "python3"
  },
  "language_info": {
   "codemirror_mode": {
    "name": "ipython",
    "version": 3
   },
   "file_extension": ".py",
   "mimetype": "text/x-python",
   "name": "python",
   "nbconvert_exporter": "python",
   "pygments_lexer": "ipython3",
   "version": "3.5.2"
  }
 },
 "nbformat": 4,
 "nbformat_minor": 2
}
