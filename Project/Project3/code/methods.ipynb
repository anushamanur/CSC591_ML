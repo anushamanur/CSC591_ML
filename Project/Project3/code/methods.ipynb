{
 "cells": [
  {
   "cell_type": "code",
   "execution_count": 2,
   "metadata": {},
   "outputs": [],
   "source": [
    "import matplotlib.pyplot as plt\n",
    "import numpy as np\n",
    "\n",
    "cols = [np.array([1,0,0]),np.array([0,1,0])] # colors\n",
    "\n",
    "def evaluate_and_plot(model, Xs, ys, ytrue, lbl, subplot = None, block=False):\n",
    "    if subplot != None:\n",
    "        plt.subplot(2,2,subplot)\n",
    "    \n",
    "    # predict, and evaluate\n",
    "    pred = model.predict(Xs)\n",
    "    \n",
    "    acc = np.mean(pred==ytrue)\n",
    "    print \"accuracy:\", round(acc, 3)\n",
    "    \n",
    "    # plot probabilities\n",
    "    [minx, maxx] = [np.min(Xs[:, 0]), np.max(Xs[:, 0])]\n",
    "    [miny, maxy] = [np.min(Xs[:, 1]), np.max(Xs[:, 1])]\n",
    "    gridsize = 100\n",
    "    xx = np.linspace(minx, maxx, gridsize)\n",
    "    yy = np.linspace(miny, maxy, gridsize).T\n",
    "    xx, yy = np.meshgrid(xx, yy)\n",
    "    Xfull = np.c_[xx.ravel(), yy.ravel()]\n",
    "    probas = model.predict_proba(Xfull)\n",
    "    plt.imshow(probas[:, 1].reshape((gridsize, gridsize)), extent=(minx, maxx, miny, maxy), origin='lower')\n",
    "    \n",
    "    # plot decision boundary\n",
    "    try:\n",
    "        if hasattr(model, 'predict_from_probabilities') and model.predict_from_probabilities:\n",
    "            plt.contour((probas[:, 0]<np.average(probas[:, 0])).reshape((gridsize, gridsize)), extent=(minx, maxx, miny, maxy), origin='lower')\n",
    "        else:\n",
    "            plt.contour(model.predict(Xfull).reshape((gridsize, gridsize)), extent=(minx, maxx, miny, maxy), origin='lower')\n",
    "    except:\n",
    "        print \"contour failed\"\n",
    "    \n",
    "    # plot data points\n",
    "    P = np.max(model.predict_proba(Xs), axis=1)\n",
    "    plt.scatter(Xs[:, 0], Xs[:,1], c=ytrue, s=(ys>-1)*300+100, linewidth=1, edgecolor=[cols[p]*P[p] for p in model.predict(Xs).astype(int)], cmap='hot')\n",
    "    plt.scatter(Xs[ys>-1, 0], Xs[ys>-1,1], c=ytrue[ys>-1], s=300, linewidth=1, edgecolor=[cols[p]*P[p] for p in model.predict(Xs).astype(int)], cmap='hot')\n",
    "    plt.title(lbl + str(round(acc, 2)))\n",
    "    \n",
    "    plt.show(block=block)"
   ]
  },
  {
   "cell_type": "code",
   "execution_count": null,
   "metadata": {},
   "outputs": [],
   "source": []
  }
 ],
 "metadata": {
  "kernelspec": {
   "display_name": "Python 2",
   "language": "python",
   "name": "python2"
  },
  "language_info": {
   "codemirror_mode": {
    "name": "ipython",
    "version": 2
   },
   "file_extension": ".py",
   "mimetype": "text/x-python",
   "name": "python",
   "nbconvert_exporter": "python",
   "pygments_lexer": "ipython2",
   "version": "2.7.16"
  }
 },
 "nbformat": 4,
 "nbformat_minor": 2
}
