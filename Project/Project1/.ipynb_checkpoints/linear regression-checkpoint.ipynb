{
 "cells": [
  {
   "cell_type": "code",
   "execution_count": 1,
   "metadata": {},
   "outputs": [],
   "source": [
    "import numpy as np # linear algebra\n",
    "import pandas as pd # data processing\n",
    "from sklearn.preprocessing import Imputer\n",
    "from sklearn.neighbors import NearestNeighbors \n",
    "import matplotlib.pyplot as plt\n",
    "from IPython.display import display\n",
    "import seaborn as sns\n",
    "from sklearn.impute import SimpleImputer\n",
    "sns.set_style('whitegrid')\n",
    "import math"
   ]
  },
  {
   "cell_type": "code",
   "execution_count": 2,
   "metadata": {},
   "outputs": [],
   "source": [
    "file_name = './AP1/train_data/train_data/train_groundtruth/{}.csv'\n",
    "df_list = []\n",
    "for i in range(1, 6001):\n",
    "    pt=pd.read_csv(file_name.format(i))\n",
    "    pt['pt_no'] = i\n",
    "    pt['index'] = range(1,len(pt)+1)\n",
    "    df_list.append(pt)\n",
    "df_truth = pd.concat(df_list)"
   ]
  },
  {
   "cell_type": "code",
   "execution_count": null,
   "metadata": {},
   "outputs": [],
   "source": []
  }
 ],
 "metadata": {
  "kernelspec": {
   "display_name": "Python 3",
   "language": "python",
   "name": "python3"
  },
  "language_info": {
   "codemirror_mode": {
    "name": "ipython",
    "version": 3
   },
   "file_extension": ".py",
   "mimetype": "text/x-python",
   "name": "python",
   "nbconvert_exporter": "python",
   "pygments_lexer": "ipython3",
   "version": "3.5.2"
  }
 },
 "nbformat": 4,
 "nbformat_minor": 2
}
