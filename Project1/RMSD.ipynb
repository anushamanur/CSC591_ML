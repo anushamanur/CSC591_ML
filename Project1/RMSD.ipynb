{
 "cells": [
  {
   "cell_type": "code",
   "execution_count": 1,
   "metadata": {},
   "outputs": [],
   "source": [
    "import numpy as np # linear algebra\n",
    "import pandas as pd # data processing\n",
    "from sklearn.preprocessing import Imputer\n",
    "from sklearn.neighbors import NearestNeighbors \n",
    "import matplotlib.pyplot as plt\n",
    "from IPython.display import display\n",
    "import seaborn as sns\n",
    "from sklearn.impute import SimpleImputer\n",
    "sns.set_style('whitegrid')\n",
    "import math\n",
    "\n",
    "\n",
    "\n"
   ]
  },
  {
   "cell_type": "code",
   "execution_count": 2,
   "metadata": {},
   "outputs": [],
   "source": [
    "file_name = './AP1/train_data/train_data/train_groundtruth/{}.csv'\n",
    "df_list = []\n",
    "for i in range(1, 6001):\n",
    "    pt=pd.read_csv(file_name.format(i))\n",
    "    pt['pt_no'] = i\n",
    "    pt['index'] = range(1,len(pt)+1)\n",
    "    df_list.append(pt)\n",
    "df_truth = pd.concat(df_list)"
   ]
  },
  {
   "cell_type": "code",
   "execution_count": 3,
   "metadata": {},
   "outputs": [],
   "source": [
    "file_name = './AP1/train_data/train_data/train_with_missing/{}.csv'\n",
    "df_list = []\n",
    "for i in range(1, 6001):\n",
    "    pt=pd.read_csv(file_name.format(i))\n",
    "    pt['pt_no'] = i\n",
    "    pt['index'] = range(1,len(pt)+1)\n",
    "    df_list.append(pt)\n",
    "df_train = pd.concat(df_list)"
   ]
  },
  {
   "cell_type": "code",
   "execution_count": 4,
   "metadata": {},
   "outputs": [],
   "source": [
    "#Reading naidx file\n",
    "\n",
    "file_name = './AP1/train_data/train_data/naidx.csv'\n",
    "df_naidx=pd.read_csv(file_name)\n",
    "len_naidx=len(df_naidx)\n"
   ]
  },
  {
   "cell_type": "code",
   "execution_count": 6,
   "metadata": {},
   "outputs": [],
   "source": [
    "#Mean imputation\n",
    "\n",
    "imp_mean = SimpleImputer(missing_values=np.nan, strategy='mean', copy=False)\n",
    "imputed_mean=imp_mean.fit_transform(df_train)\n",
    "imputed_val=pd.DataFrame(imputed_mean, columns=df_train.columns)\n"
   ]
  },
  {
   "cell_type": "code",
   "execution_count": 29,
   "metadata": {},
   "outputs": [
    {
     "name": "stdout",
     "output_type": "stream",
     "text": [
      "1.2220088054448857\n"
     ]
    }
   ],
   "source": [
    "#RMSD for entire training set\n",
    "\n",
    "d=0\n",
    "for i in range(1,6001):\n",
    "    df_naidx_sub=df_naidx.loc[df_naidx['pt.num'] == i]\n",
    "    df_truth_sub=df_truth.loc[(df_truth['pt_no'] == i)]\n",
    "    \n",
    "    for index, row in df_naidx_sub.iterrows():\n",
    "        x= imputed_val.loc[(imputed_val['index'] == row['i']) & (imputed_val['pt_no'] == i) ,row['test']].iloc[0]\n",
    "        y= df_truth_sub.loc[(df_truth_sub['index'] == row['i']) ,row['test']].iloc[0]        \n",
    "        rnge=df_truth_sub[row['test']].max()-df_truth_sub[row['test']].min()\n",
    "        d+=((x-y)/rnge)**2\n",
    "rmsd=math.sqrt(d/len_naidx)\n",
    "print (rmsd)\n",
    "    \n",
    "    \n",
    "    "
   ]
  },
  {
   "cell_type": "code",
   "execution_count": null,
   "metadata": {},
   "outputs": [],
   "source": [
    "#RMSD per column\n",
    "d=[-1]*13\n",
    "diff=0\n",
    "for i in range(1,14):\n",
    "    df_naidx_sub=df_naidx.loc[df_naidx['test'] == ('X'+str(i))]\n",
    "    len_naidx_per_col=len(df_naidx_sub)\n",
    "    diff=0\n",
    "    for index, row in df_naidx_sub.iterrows():\n",
    "        x= imputed_val.loc[(imputed_val['index'] == row['i']) & (imputed_val['pt_no'] == row['pt.num']) ,row['test']].iloc[0]\n",
    "        y= df_truth.loc[(df_truth['index'] == row['i']) & (df_truth['pt_no'] == row['pt.num']),row['test']].iloc[0]\n",
    "        df_truth_sub=df_truth.loc[(df_truth['pt_no'] == row['pt.num'])]\n",
    "        rnge=df_truth_sub[row['test']].max()-df_truth_sub[row['test']].min()\n",
    "        diff+=((x-y)/rnge)**2\n",
    "    d[i-1]=math.sqrt(diff/len_naidx_per_col)\n",
    "    \n",
    "print (d)    "
   ]
  },
  {
   "cell_type": "code",
   "execution_count": null,
   "metadata": {},
   "outputs": [],
   "source": []
  }
 ],
 "metadata": {
  "kernelspec": {
   "display_name": "Python 3",
   "language": "python",
   "name": "python3"
  },
  "language_info": {
   "codemirror_mode": {
    "name": "ipython",
    "version": 3
   },
   "file_extension": ".py",
   "mimetype": "text/x-python",
   "name": "python",
   "nbconvert_exporter": "python",
   "pygments_lexer": "ipython3",
   "version": "3.5.2"
  }
 },
 "nbformat": 4,
 "nbformat_minor": 2
}
