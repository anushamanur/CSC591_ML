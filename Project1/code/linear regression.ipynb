{
 "cells": [
  {
   "cell_type": "code",
   "execution_count": 2,
   "metadata": {},
   "outputs": [],
   "source": [
    "import numpy as np # linear algebra\n",
    "import pandas as pd # data processing\n",
    "from sklearn.experimental import enable_iterative_imputer  # noqa\n",
    "from sklearn.impute import IterativeImputer\n",
    "from sklearn.impute import IterativeImputer\n",
    "from sklearn import linear_model\n",
    "from sklearn.neighbors import NearestNeighbors \n",
    "import matplotlib.pyplot as plt\n",
    "from IPython.display import display\n",
    "import seaborn as sns\n",
    "from sklearn.impute import SimpleImputer\n",
    "sns.set_style('whitegrid')\n",
    "import math\n",
    "from sklearn.neural_network import MLPRegressor\n",
    "from sklearn.model_selection import GridSearchCV"
   ]
  },
  {
   "cell_type": "code",
   "execution_count": null,
   "metadata": {},
   "outputs": [],
   "source": [
    "file_name = './AP1/train_data/train_data/train_groundtruth/{}.csv'\n",
    "df_list = []\n",
    "for i in range(1, 6001):\n",
    "    pt=pd.read_csv(file_name.format(i))\n",
    "    pt['pt_no'] = i\n",
    "    pt['index'] = range(1,len(pt)+1)\n",
    "    df_list.append(pt)\n",
    "df_truth = pd.concat(df_list)"
   ]
  },
  {
   "cell_type": "code",
   "execution_count": null,
   "metadata": {},
   "outputs": [],
   "source": [
    "file_name = './AP1/train_data/train_data/train_with_missing/{}.csv'\n",
    "df_list = []\n",
    "for i in range(1, 6001):\n",
    "    pt=pd.read_csv(file_name.format(i))\n",
    "    pt['pt_no'] = i\n",
    "    pt['index'] = range(1,len(pt)+1)\n",
    "    df_list.append(pt)\n",
    "df_train = pd.concat(df_list)"
   ]
  },
  {
   "cell_type": "code",
   "execution_count": null,
   "metadata": {},
   "outputs": [],
   "source": [
    "#Reading naidx file\n",
    "\n",
    "file_name = './AP1/train_data/train_data/naidx.csv'\n",
    "df_naidx=pd.read_csv(file_name)\n",
    "len_naidx=len(df_naidx)\n"
   ]
  },
  {
   "cell_type": "code",
   "execution_count": null,
   "metadata": {},
   "outputs": [],
   "source": [
    "missing_columns = ['X1', 'X2', 'X3', 'X4', 'X5', 'X6', 'X7', 'X8', 'X9', 'X10', 'X11', 'X12', 'X13']\n",
    "li = ['X1', 'X2', 'X3', 'X4', 'X5', 'X6', 'X7', 'X8', 'X9', 'X10', 'X11', 'X12', 'X13']"
   ]
  },
  {
   "cell_type": "code",
   "execution_count": 7,
   "metadata": {},
   "outputs": [
    {
     "name": "stdout",
     "output_type": "stream",
     "text": [
      "Empty DataFrame\n",
      "Columns: [time, X1, X2, X3, X4, X5, X6, X7, X8, X9, X10, X11, X12, X13, pt_no, index]\n",
      "Index: []\n"
     ]
    }
   ],
   "source": [
    "df_data = pd.DataFrame(columns=df_train.columns)\n",
    "print (df_data)\n",
    "df_truth=df_truth.fillna(df_truth.mean())"
   ]
  },
  {
   "cell_type": "code",
   "execution_count": 12,
   "metadata": {},
   "outputs": [],
   "source": [
    "#df_data.loc[df_train[feature].isnull(),feature] = \n",
    "param=[]\n",
    "param.append('time')\n",
    "df_data['time'] = df_train['time'].values\n",
    "df_data['pt_no'] = df_train['pt_no'].values\n",
    "df_data['index'] = df_train['index'].values\n",
    "\n",
    "for feature in missing_columns:\n",
    "    df_data[feature] = df_train[feature].values\n",
    "    param=list(li)\n",
    "    param.remove(feature)    \n",
    "\n",
    "    model = linear_model.LinearRegression()\n",
    "    model.fit(X = df_truth[param], y = df_truth[feature])\n",
    "    \n",
    "    df_data = df_data.reset_index(drop=True)\n",
    "    df_train = df_train.reset_index(drop=True)\n",
    "    \n",
    "    df_data.loc[df_train[feature].isnull(),feature]=model.predict(df_truth[param])[df_train[feature].isnull()]\n",
    "    #df_train=model.predict(df_truth[param])[df_train[feature].isnull()]\n",
    "    #print (x[:10])\n",
    "    #y=df_truth.loc[df_train[feature].isnull(), feature]\n",
    "    #print (y[:10])\n"
   ]
  },
  {
   "cell_type": "code",
   "execution_count": 9,
   "metadata": {},
   "outputs": [],
   "source": [
    "#RMSD per column\n",
    "\n",
    "def rmsd(imputed_val):\n",
    "    d=[-1]*13\n",
    "    diff=0\n",
    "    for i in range(1,14):\n",
    "        print (\"i\", i)\n",
    "        df_naidx_sub=df_naidx.loc[df_naidx['test'] == ('X'+str(i))]\n",
    "        len_naidx_per_col=len(df_naidx_sub)\n",
    "        diff=0\n",
    "        for index, row in df_naidx_sub.iterrows():\n",
    "            x= imputed_val.loc[(imputed_val['index'] == row['i']) & (imputed_val['pt_no'] == row['pt.num']) ,row['test']].iloc[0]\n",
    "            y= df_truth.loc[(df_truth['index'] == row['i']) & (df_truth['pt_no'] == row['pt.num']),row['test']].iloc[0]\n",
    "            df_truth_sub=df_truth.loc[(df_truth['pt_no'] == row['pt.num'])]\n",
    "            rnge=df_truth_sub[row['test']].max()-df_truth_sub[row['test']].min()\n",
    "            diff+=((x-y)/rnge)**2\n",
    "        d[i-1]=math.sqrt(diff/len_naidx_per_col)\n",
    "\n",
    "    print (d)    "
   ]
  },
  {
   "cell_type": "code",
   "execution_count": 13,
   "metadata": {},
   "outputs": [
    {
     "name": "stdout",
     "output_type": "stream",
     "text": [
      "i 1\n",
      "i 2\n",
      "i 3\n",
      "i 4\n",
      "i 5\n",
      "i 6\n",
      "i 7\n",
      "i 8\n",
      "i 9\n",
      "i 10\n",
      "i 11\n",
      "i 12\n",
      "i 13\n",
      "[0.22412247857724554, 0.31457324936111525, 0.3039815439310283, 0.2410287854647858, 0.15656525066146082, 0.14515082271074664, 0.9477136310514792, 0.75843362493925, 0.5904562027149945, 1.0152322599161805, 0.995605255054144, 1.1984801168049923, 0.39057607418031126]\n",
      "None\n"
     ]
    }
   ],
   "source": [
    "res=rmsd(df_data)\n",
    "print (res)"
   ]
  },
  {
   "cell_type": "code",
   "execution_count": null,
   "metadata": {},
   "outputs": [],
   "source": []
  }
 ],
 "metadata": {
  "kernelspec": {
   "display_name": "Python 3",
   "language": "python",
   "name": "python3"
  },
  "language_info": {
   "codemirror_mode": {
    "name": "ipython",
    "version": 3
   },
   "file_extension": ".py",
   "mimetype": "text/x-python",
   "name": "python",
   "nbconvert_exporter": "python",
   "pygments_lexer": "ipython3",
   "version": "3.5.2"
  }
 },
 "nbformat": 4,
 "nbformat_minor": 2
}
